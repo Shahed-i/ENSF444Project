{
 "cells": [
  {
   "cell_type": "code",
   "execution_count": 4,
   "metadata": {},
   "outputs": [
    {
     "name": "stdout",
     "output_type": "stream",
     "text": [
      "<class 'pandas.core.frame.DataFrame'>\n",
      "RangeIndex: 1000 entries, 0 to 999\n",
      "Data columns (total 8 columns):\n",
      " #   Column             Non-Null Count  Dtype  \n",
      "---  ------             --------------  -----  \n",
      " 0   defect_id          1000 non-null   int64  \n",
      " 1   product_id         1000 non-null   int64  \n",
      " 2   defect_type        1000 non-null   object \n",
      " 3   defect_date        1000 non-null   object \n",
      " 4   defect_location    1000 non-null   object \n",
      " 5   severity           1000 non-null   object \n",
      " 6   inspection_method  1000 non-null   object \n",
      " 7   repair_cost        1000 non-null   float64\n",
      "dtypes: float64(1), int64(2), object(5)\n",
      "memory usage: 62.6+ KB\n",
      "None\n",
      "No missing values detected in the dataset.\n"
     ]
    }
   ],
   "source": [
    "import numpy as np\n",
    "import pandas as pd\n",
    "import matplotlib.pyplot as plt\n",
    "import seaborn as sns\n",
    "import warnings\n",
    "\n",
    "warnings.filterwarnings('ignore')  # Ignoring some deprecation warnings\n",
    "\n",
    "from sklearn.model_selection import train_test_split\n",
    "from sklearn.preprocessing import StandardScaler\n",
    "\n",
    "# Load the dataset\n",
    "df = pd.read_csv(\"defects_data.csv\")\n",
    "\n",
    "# Display basic information about the dataset\n",
    "print(df.info())\n",
    "\n",
    "# Check for missing values\n",
    "missing_values = df.isnull().sum()\n",
    "if missing_values.any():\n",
    "    print(\"Missing values detected in the dataset:\")\n",
    "    print(missing_values)\n",
    "    \n",
    "    # Fill missing values with the mean of each column\n",
    "    df.fillna(df.mean(), inplace=True)\n",
    "    print(\"Missing values have been filled with column means.\")\n",
    "else:\n",
    "    print(\"No missing values detected in the dataset.\")\n",
    "\n",
    "# Define features (X) and target (y) assuming 'target' is the column name for labels\n",
    "X = df.drop(columns=['severity'])\n",
    "y = df['severity']\n",
    "\n",
    "# Split the dataset into training and testing sets\n",
    "X_train, X_test, y_train, y_test = train_test_split(X, y, test_size=0.2, random_state=42)\n",
    "\n"
   ]
  },
  {
   "cell_type": "code",
   "execution_count": null,
   "metadata": {},
   "outputs": [],
   "source": []
  }
 ],
 "metadata": {
  "kernelspec": {
   "display_name": "base",
   "language": "python",
   "name": "python3"
  },
  "language_info": {
   "codemirror_mode": {
    "name": "ipython",
    "version": 3
   },
   "file_extension": ".py",
   "mimetype": "text/x-python",
   "name": "python",
   "nbconvert_exporter": "python",
   "pygments_lexer": "ipython3",
   "version": "3.9.12"
  }
 },
 "nbformat": 4,
 "nbformat_minor": 2
}
