{
 "cells": [
  {
   "cell_type": "code",
   "execution_count": 39,
   "metadata": {},
   "outputs": [
    {
     "name": "stdout",
     "output_type": "stream",
     "text": [
      "Training Accuracy (with custom threshold): 0.4375\n",
      "Validation (Test) Accuracy (with custom threshold): 0.3550\n",
      "Cross-Validation Mean Accuracy: 0.3200\n",
      "\n",
      "Confusion Matrix (with custom threshold):\n",
      "[[47 19  0]\n",
      " [48 24  0]\n",
      " [39 23  0]]\n"
     ]
    },
    {
     "data": {
      "image/png": "[encoded data removed]",
      "text/plain": [
       "<Figure size 800x600 with 1 Axes>"
      ]
     },
     "metadata": {},
     "output_type": "display_data"
    }
   ],
   "source": [
    "import numpy as np\n",
    "import numpy as np\n",
    "import pandas as pd\n",
    "import warnings\n",
    "from sklearn.model_selection import train_test_split, cross_val_score, StratifiedKFold\n",
    "from sklearn.preprocessing import StandardScaler, OneHotEncoder, LabelEncoder\n",
    "from sklearn.compose import ColumnTransformer\n",
    "from sklearn.linear_model import LogisticRegression\n",
    "from sklearn.metrics import accuracy_score, classification_report, confusion_matrix, precision_score, recall_score, f1_score\n",
    "\n",
    "warnings.filterwarnings('ignore')  # Ignore warnings\n",
    "\n",
    "# Load the dataset\n",
    "df = pd.read_csv(\"defects_data.csv\")\n",
    "\n",
    "# Drop irrelevant columns\n",
    "df = df.drop(columns=['defect_id', 'product_id'])\n",
    "\n",
    "# Encode categorical target variable (assuming 'severity' is categorical)\n",
    "label_encoder = LabelEncoder()\n",
    "df['severity'] = label_encoder.fit_transform(df['severity'])\n",
    "\n",
    "# Separate features and target\n",
    "X = df.drop(columns=['severity'])\n",
    "y = df['severity']\n",
    "\n",
    "# Identify categorical and numerical features\n",
    "categorical_features = ['defect_type', 'defect_date', 'defect_location', 'inspection_method']\n",
    "numerical_features = ['repair_cost']\n",
    "\n",
    "# Preprocessing: One-hot encoding for categorical, scaling for numerical\n",
    "column_transformer = ColumnTransformer([\n",
    "    ('onehot', OneHotEncoder(handle_unknown='ignore'), categorical_features),\n",
    "    ('scaler', StandardScaler(), numerical_features)\n",
    "])\n",
    "\n",
    "# Transform the features\n",
    "X_transformed = column_transformer.fit_transform(X)\n",
    "\n",
    "# Split dataset into train and test sets\n",
    "X_train, X_test, y_train, y_test = train_test_split(X_transformed, y, test_size=0.2, random_state=42, stratify=y)\n",
    "\n",
    "\n",
    "# Apply Logistic Regression model\n",
    "model = LogisticRegression(C=0.15, max_iter=2000, class_weight='balanced')\n",
    "model.fit(X_train, y_train)\n",
    "\n",
    "# Get predicted probabilities instead of direct predictions\n",
    "y_train_prob = model.predict_proba(X_train)[:, 1]  # Probabilities for the positive class\n",
    "y_test_prob = model.predict_proba(X_test)[:, 1]  # Probabilities for the positive class\n",
    "\n",
    "# Set a custom threshold (e.g., 0.5 is the default, but we can adjust it)\n",
    "threshold = 0.35  # You can experiment with this value\n",
    "y_train_pred_new = (y_train_prob > threshold).astype(int)\n",
    "y_test_pred_new = (y_test_prob > threshold).astype(int)\n",
    "\n",
    "# Calculate accuracy on the training and test set using the new threshold\n",
    "train_accuracy_new = accuracy_score(y_train, y_train_pred_new)\n",
    "test_accuracy_new = accuracy_score(y_test, y_test_pred_new)\n",
    "\n",
    "# Cross-validation (optional but included)\n",
    "cv = StratifiedKFold(n_splits=5, shuffle=True, random_state=42)\n",
    "cv_scores = cross_val_score(model, X_transformed, y, cv=cv, scoring='accuracy')\n",
    "\n",
    "# Print Validation Results\n",
    "print(f\"Training Accuracy (with custom threshold): {train_accuracy_new:.4f}\")\n",
    "print(f\"Validation (Test) Accuracy (with custom threshold): {test_accuracy_new:.4f}\")\n",
    "print(f\"Cross-Validation Mean Accuracy: {cv_scores.mean():.4f}\")\n",
    "\n",
    "# Optionally, print precision, recall, F1 score, confusion matrix, and classification report\n",
    "print(\"\\nConfusion Matrix (with custom threshold):\")\n",
    "print(confusion_matrix(y_test, y_test_pred_new))\n",
    "\n",
    "# Visualize the Confusion Matrix using a Heatmap\n",
    "conf_matrix_new = confusion_matrix(y_test, y_test_pred_new)\n",
    "\n",
    "# Plotting\n",
    "plt.figure(figsize=(8, 6))\n",
    "sns.heatmap(conf_matrix_new, annot=True, fmt=\"d\", cmap=\"Blues\", cbar=False, xticklabels=model.classes_, yticklabels=model.classes_)\n",
    "plt.title(\"Confusion Matrix (Custom Threshold)\")\n",
    "plt.xlabel(\"Predicted Labels\")\n",
    "plt.ylabel(\"True Labels\")\n",
    "plt.show()"
   ]
  }
 ],
 "metadata": {
  "kernelspec": {
   "display_name": "ensf444",
   "language": "python",
   "name": "python3"
  },
  "language_info": {
   "codemirror_mode": {
    "name": "ipython",
    "version": 3
   },
   "file_extension": ".py",
   "mimetype": "text/x-python",
   "name": "python",
   "nbconvert_exporter": "python",
   "pygments_lexer": "ipython3",
   "version": "3.10.0"
  }
 },
 "nbformat": 4,
 "nbformat_minor": 2
}
